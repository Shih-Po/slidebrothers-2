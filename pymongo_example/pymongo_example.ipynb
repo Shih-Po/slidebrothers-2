{
 "cells": [
  {
   "cell_type": "code",
   "execution_count": 67,
   "metadata": {
    "collapsed": false
   },
   "outputs": [],
   "source": [
    "import pandas as pd\n",
    "from pymongo import MongoClient\n",
    "\n",
    "# split sensitive data to config.py\n",
    "import config\n",
    "\n",
    "mongo_uri = config.mongo_uri\n",
    "db_name = config.db_name"
   ]
  },
  {
   "cell_type": "code",
   "execution_count": 66,
   "metadata": {
    "collapsed": false
   },
   "outputs": [
    {
     "data": {
      "text/plain": [
       "['tasks',\n",
       " 'meteor_accounts_loginServiceConfiguration',\n",
       " 'users',\n",
       " 'case_ptt',\n",
       " 'case_104',\n",
       " 'case_518']"
      ]
     },
     "execution_count": 66,
     "metadata": {},
     "output_type": "execute_result"
    }
   ],
   "source": [
    "client = MongoClient(mongo_uri)\n",
    "db = client[db_name]\n",
    "\n",
    "db.collection_names(include_system_collections=False)"
   ]
  },
  {
   "cell_type": "markdown",
   "metadata": {},
   "source": [
    "## 1. find"
   ]
  },
  {
   "cell_type": "code",
   "execution_count": 3,
   "metadata": {
    "collapsed": false
   },
   "outputs": [
    {
     "data": {
      "text/plain": [
       "{'_id': 'ASvTay47dGFxmsAhs',\n",
       " 'createdAt': datetime.datetime(2017, 4, 27, 17, 10, 15, 23000),\n",
       " 'owner': 'usRseG25Bqc54JBHm',\n",
       " 'private': False,\n",
       " 'text': 'ShiPo GOGO',\n",
       " 'username': 'max80713'}"
      ]
     },
     "execution_count": 3,
     "metadata": {},
     "output_type": "execute_result"
    }
   ],
   "source": [
    "# db['your_collection_name'].find_one({})\n",
    "db['tasks'].find_one()"
   ]
  },
  {
   "cell_type": "code",
   "execution_count": 8,
   "metadata": {
    "collapsed": false
   },
   "outputs": [
    {
     "name": "stdout",
     "output_type": "stream",
     "text": [
      "{'_id': 'ASvTay47dGFxmsAhs', 'text': 'ShiPo GOGO', 'createdAt': datetime.datetime(2017, 4, 27, 17, 10, 15, 23000), 'owner': 'usRseG25Bqc54JBHm', 'username': 'max80713', 'private': False}\n"
     ]
    }
   ],
   "source": [
    "for doc in db['tasks'].find():\n",
    "    print(doc)"
   ]
  },
  {
   "cell_type": "markdown",
   "metadata": {},
   "source": [
    "## 2. insert"
   ]
  },
  {
   "cell_type": "code",
   "execution_count": 23,
   "metadata": {
    "collapsed": false
   },
   "outputs": [
    {
     "data": {
      "text/plain": [
       "<pymongo.results.InsertOneResult at 0x11826a480>"
      ]
     },
     "execution_count": 23,
     "metadata": {},
     "output_type": "execute_result"
    }
   ],
   "source": [
    "db['case_ptt'].insert_one(_collection[33])"
   ]
  },
  {
   "cell_type": "code",
   "execution_count": 44,
   "metadata": {
    "collapsed": false
   },
   "outputs": [],
   "source": [
    "result = db['case_ptt'].insert_many(_collection)"
   ]
  },
  {
   "cell_type": "markdown",
   "metadata": {},
   "source": [
    "## 3. delete document and drop collection"
   ]
  },
  {
   "cell_type": "code",
   "execution_count": 40,
   "metadata": {
    "collapsed": false
   },
   "outputs": [
    {
     "data": {
      "text/plain": [
       "0"
      ]
     },
     "execution_count": 40,
     "metadata": {},
     "output_type": "execute_result"
    }
   ],
   "source": [
    "db['case_ptt'].delete_many({}).deleted_count"
   ]
  },
  {
   "cell_type": "code",
   "execution_count": 48,
   "metadata": {
    "collapsed": false
   },
   "outputs": [],
   "source": [
    "db['case_ptt'].drop()"
   ]
  },
  {
   "cell_type": "markdown",
   "metadata": {},
   "source": [
    "# Go ahead\n",
    "## read collection from file"
   ]
  },
  {
   "cell_type": "code",
   "execution_count": 64,
   "metadata": {
    "collapsed": false
   },
   "outputs": [
    {
     "data": {
      "text/plain": [
       "[{'average_price': 375000.0,\n",
       "  'budget': '35萬~40萬',\n",
       "  'case_type': '急件',\n",
       "  'content': '1.醫療單位形象網站建置\\n2.使用 ASP.NET MSSQL 開發\\n3.採用MVC架構 包括中英日語系\\n4.具備開發醫療院所網站優先',\n",
       "  'highest_price': 400000.0,\n",
       "  'link': 'https://case.104.com.tw/seek_view.cfm?caseno=1181996&cfrom=postcase_list_seeknum&clist=0&begin=2',\n",
       "  'location': '北台灣',\n",
       "  'lowest_price': 350000.0,\n",
       "  'office': '不須駐點',\n",
       "  'owner_type': '公司行號',\n",
       "  'propose_amount': '1~5',\n",
       "  'title': '醫療單位形象網站建置',\n",
       "  'view': 118},\n",
       " {'average_price': 275000.0,\n",
       "  'budget': '25萬~30萬',\n",
       "  'case_type': '一般案件',\n",
       "  'content': '1.含導購商品紀錄系統，需對接指定的金流支付工具，後台規格:\\n(1) 會員管理\\n(2) 商品管理\\n(3) 訂單管理\\n(4) 供應商管理，含商品與訂單出貨管控功能\\n(5) 權限管理\\n2.歡迎有相關系統開發經驗的專職SOHO、專職工作室、公司行號提案。\\n3.有意提案請電洽發案方',\n",
       "  'highest_price': 300000.0,\n",
       "  'link': 'https://case.104.com.tw/seek_view.cfm?caseno=1182014&cfrom=postcase_list_seeknum&clist=0&begin=2',\n",
       "  'location': '不拘',\n",
       "  'lowest_price': 250000.0,\n",
       "  'office': '不須駐點',\n",
       "  'owner_type': '公司行號',\n",
       "  'propose_amount': '1~5',\n",
       "  'title': '商城系統開發',\n",
       "  'view': 120}]"
      ]
     },
     "execution_count": 64,
     "metadata": {},
     "output_type": "execute_result"
    }
   ],
   "source": [
    "def get_collection_from_file(key='codejob'):\n",
    "    import os\n",
    "    root_path = '../data/'\n",
    "    f_path = [root_path + f for f in os.listdir(root_path) \n",
    "              if 'tsv' in f and key in f][0]\n",
    "    return pd.read_csv(f_path, sep='\\t').to_dict(orient='records')\n",
    "\n",
    "\n",
    "get_collection_from_file('104')[:2]"
   ]
  },
  {
   "cell_type": "markdown",
   "metadata": {},
   "source": [
    "## insert collection to MongoDB"
   ]
  },
  {
   "cell_type": "code",
   "execution_count": 59,
   "metadata": {
    "collapsed": false
   },
   "outputs": [
    {
     "data": {
      "text/plain": [
       "<pymongo.results.InsertManyResult at 0x118e417e0>"
      ]
     },
     "execution_count": 59,
     "metadata": {},
     "output_type": "execute_result"
    }
   ],
   "source": [
    "def insert_collection_to_mongodb(collection_name, key, db=db):\n",
    "    _collection = get_collection_from_file(key)\n",
    "    result = db[collection_name].insert_many(_collection)\n",
    "    return result\n",
    "\n",
    "insert_collection_to_mongodb('case_104', '104')"
   ]
  },
  {
   "cell_type": "code",
   "execution_count": 60,
   "metadata": {
    "collapsed": false
   },
   "outputs": [
    {
     "data": {
      "text/plain": [
       "<pymongo.results.InsertManyResult at 0x118a5bb40>"
      ]
     },
     "execution_count": 60,
     "metadata": {},
     "output_type": "execute_result"
    }
   ],
   "source": [
    "insert_collection_to_mongodb('case_518', '518')\n",
    "insert_collection_to_mongodb('case_ptt', 'codejob')"
   ]
  },
  {
   "cell_type": "markdown",
   "metadata": {},
   "source": [
    "## Done!"
   ]
  },
  {
   "cell_type": "code",
   "execution_count": 61,
   "metadata": {
    "collapsed": false
   },
   "outputs": [
    {
     "data": {
      "text/plain": [
       "['tasks',\n",
       " 'meteor_accounts_loginServiceConfiguration',\n",
       " 'users',\n",
       " 'case_ptt',\n",
       " 'case_104',\n",
       " 'case_518']"
      ]
     },
     "execution_count": 61,
     "metadata": {},
     "output_type": "execute_result"
    }
   ],
   "source": [
    "db.collection_names(include_system_collections=False)"
   ]
  },
  {
   "cell_type": "code",
   "execution_count": 63,
   "metadata": {
    "collapsed": false
   },
   "outputs": [
    {
     "data": {
      "text/plain": [
       "{'_id': ObjectId('590355f09416bcb384b23092'),\n",
       " 'average_price': 375000.0,\n",
       " 'budget': '35萬~40萬',\n",
       " 'case_type': '急件',\n",
       " 'content': '1.醫療單位形象網站建置\\n2.使用 ASP.NET MSSQL 開發\\n3.採用MVC架構 包括中英日語系\\n4.具備開發醫療院所網站優先',\n",
       " 'highest_price': 400000.0,\n",
       " 'link': 'https://case.104.com.tw/seek_view.cfm?caseno=1181996&cfrom=postcase_list_seeknum&clist=0&begin=2',\n",
       " 'location': '北台灣',\n",
       " 'lowest_price': 350000.0,\n",
       " 'office': '不須駐點',\n",
       " 'owner_type': '公司行號',\n",
       " 'propose_amount': '1~5',\n",
       " 'title': '醫療單位形象網站建置',\n",
       " 'view': 118}"
      ]
     },
     "execution_count": 63,
     "metadata": {},
     "output_type": "execute_result"
    }
   ],
   "source": [
    "db['case_104'].find_one()"
   ]
  },
  {
   "cell_type": "code",
   "execution_count": null,
   "metadata": {
    "collapsed": true
   },
   "outputs": [],
   "source": []
  }
 ],
 "metadata": {
  "kernelspec": {
   "display_name": "Python 3",
   "language": "python",
   "name": "python3"
  },
  "language_info": {
   "codemirror_mode": {
    "name": "ipython",
    "version": 3
   },
   "file_extension": ".py",
   "mimetype": "text/x-python",
   "name": "python",
   "nbconvert_exporter": "python",
   "pygments_lexer": "ipython3",
   "version": "3.6.0"
  }
 },
 "nbformat": 4,
 "nbformat_minor": 2
}
