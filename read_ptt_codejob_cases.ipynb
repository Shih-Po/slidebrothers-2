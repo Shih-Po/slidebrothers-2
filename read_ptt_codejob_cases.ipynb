{
 "cells": [
  {
   "cell_type": "code",
   "execution_count": 1,
   "metadata": {
    "collapsed": true
   },
   "outputs": [],
   "source": [
    "import pandas as pd"
   ]
  },
  {
   "cell_type": "code",
   "execution_count": 7,
   "metadata": {
    "collapsed": false
   },
   "outputs": [],
   "source": [
    "df = pd.read_csv('./data/codejob_from_index_355_to_365.tsv', sep='\\t', dtype='str')"
   ]
  },
  {
   "cell_type": "code",
   "execution_count": 30,
   "metadata": {
    "collapsed": false
   },
   "outputs": [
    {
     "data": {
      "text/html": [
       "<div>\n",
       "<table border=\"1\" class=\"dataframe\">\n",
       "  <thead>\n",
       "    <tr style=\"text-align: right;\">\n",
       "      <th></th>\n",
       "      <th>author</th>\n",
       "      <th>content</th>\n",
       "      <th>time</th>\n",
       "      <th>title</th>\n",
       "      <th>url</th>\n",
       "    </tr>\n",
       "  </thead>\n",
       "  <tbody>\n",
       "    <tr>\n",
       "      <th>7</th>\n",
       "      <td>modena6500 (蘋果好可愛)</td>\n",
       "      <td>發案人：modena6500\\n       聯絡方式1：站內信\\n   ...</td>\n",
       "      <td>2017-01-10 18:28:30</td>\n",
       "      <td>[發案] 民宿網站</td>\n",
       "      <td>https://www.ptt.cc/bbs/CodeJob/M.1484044113.A....</td>\n",
       "    </tr>\n",
       "    <tr>\n",
       "      <th>32</th>\n",
       "      <td>sulaxd (SulaXD)</td>\n",
       "      <td>發案人：湯先生\\n       聯絡方式1：[email protecte...</td>\n",
       "      <td>2017-02-07 14:19:25</td>\n",
       "      <td>[發案] (已徵到)徵Python (Django&amp;Selenium)遠端工程師</td>\n",
       "      <td>https://www.ptt.cc/bbs/CodeJob/M.1486448367.A....</td>\n",
       "    </tr>\n",
       "    <tr>\n",
       "      <th>37</th>\n",
       "      <td>xavier8130 (朔)</td>\n",
       "      <td>發案人：曾小姐\\n聯絡方式1：[email protected]/* &lt;![CDATA[ *...</td>\n",
       "      <td>2017-02-08 03:24:29</td>\n",
       "      <td>[發案] 活動網頁架設</td>\n",
       "      <td>https://www.ptt.cc/bbs/CodeJob/M.1486495471.A....</td>\n",
       "    </tr>\n",
       "    <tr>\n",
       "      <th>55</th>\n",
       "      <td>ae034 (gone with wind)</td>\n",
       "      <td>發案人： 彭先生\\n       聯絡方式1： 站內信\\n       所...</td>\n",
       "      <td>2017-02-17 11:34:26</td>\n",
       "      <td>[發案] rwd切版需求</td>\n",
       "      <td>https://www.ptt.cc/bbs/CodeJob/M.1487302468.A....</td>\n",
       "    </tr>\n",
       "    <tr>\n",
       "      <th>56</th>\n",
       "      <td>beaprayguy (小羊快跑啊)</td>\n",
       "      <td>Hi 有限有網頁嗎\\n我可否看完後再報價？\\n--\\n※ 發信站: 批踢踢實業坊(ptt.c...</td>\n",
       "      <td>2017-02-17 14:32:36</td>\n",
       "      <td>Re: [發案] rwd切版需求</td>\n",
       "      <td>https://www.ptt.cc/bbs/CodeJob/M.1487313158.A....</td>\n",
       "    </tr>\n",
       "    <tr>\n",
       "      <th>60</th>\n",
       "      <td>prosai (,)</td>\n",
       "      <td>發案人： me\\n       聯絡方式1： https://goo.gl...</td>\n",
       "      <td>2017-02-25 17:27:33</td>\n",
       "      <td>[發案] SEO 網頁優化</td>\n",
       "      <td>https://www.ptt.cc/bbs/CodeJob/M.1488014856.A....</td>\n",
       "    </tr>\n",
       "    <tr>\n",
       "      <th>74</th>\n",
       "      <td>Yaiba (緋心刀刃)</td>\n",
       "      <td>先評估第一階段就好\\n所以後面的部份先拿掉\\n所以APP是等這部份做完才會再發包(也可能第一...</td>\n",
       "      <td>2017-03-06 11:39:18</td>\n",
       "      <td>[發案] 美髮預約</td>\n",
       "      <td>https://www.ptt.cc/bbs/CodeJob/M.1488771561.A....</td>\n",
       "    </tr>\n",
       "    <tr>\n",
       "      <th>77</th>\n",
       "      <td>homuhomulol (homuhomu)</td>\n",
       "      <td>發案人： me\\n       聯絡方式1： 站內信\\n       聯絡...</td>\n",
       "      <td>2017-03-07 23:59:21</td>\n",
       "      <td>[發案] 網頁手機版前端</td>\n",
       "      <td>https://www.ptt.cc/bbs/CodeJob/M.1488902364.A....</td>\n",
       "    </tr>\n",
       "    <tr>\n",
       "      <th>96</th>\n",
       "      <td>tripleksa (KSA)</td>\n",
       "      <td>凡是「*[30m」開始的行，都請使用 Ctrl + y 刪除。\\n如果對於發案文章格式有不清...</td>\n",
       "      <td>2017-03-19 00:47:11</td>\n",
       "      <td>[發案] 網站協助建構以及諮詢</td>\n",
       "      <td>https://www.ptt.cc/bbs/CodeJob/M.1489855633.A....</td>\n",
       "    </tr>\n",
       "  </tbody>\n",
       "</table>\n",
       "</div>"
      ],
      "text/plain": [
       "                    author                                            content  \\\n",
       "7       modena6500 (蘋果好可愛)          　發案人：modena6500\\n       聯絡方式1：站內信\\n   ...   \n",
       "32         sulaxd (SulaXD)          　發案人：湯先生\\n       聯絡方式1：[email protecte...   \n",
       "37          xavier8130 (朔)  發案人：曾小姐\\n聯絡方式1：[email protected]/* <![CDATA[ *...   \n",
       "55  ae034 (gone with wind)          　發案人： 彭先生\\n       聯絡方式1： 站內信\\n       所...   \n",
       "56      beaprayguy (小羊快跑啊)  Hi 有限有網頁嗎\\n我可否看完後再報價？\\n--\\n※ 發信站: 批踢踢實業坊(ptt.c...   \n",
       "60              prosai (,)          　發案人： me\\n       聯絡方式1： https://goo.gl...   \n",
       "74            Yaiba (緋心刀刃)  先評估第一階段就好\\n所以後面的部份先拿掉\\n所以APP是等這部份做完才會再發包(也可能第一...   \n",
       "77  homuhomulol (homuhomu)          　發案人： me\\n       聯絡方式1： 站內信\\n       聯絡...   \n",
       "96         tripleksa (KSA)  凡是「*[30m」開始的行，都請使用 Ctrl + y 刪除。\\n如果對於發案文章格式有不清...   \n",
       "\n",
       "                   time                                     title  \\\n",
       "7   2017-01-10 18:28:30                                 [發案] 民宿網站   \n",
       "32  2017-02-07 14:19:25  [發案] (已徵到)徵Python (Django&Selenium)遠端工程師   \n",
       "37  2017-02-08 03:24:29                               [發案] 活動網頁架設   \n",
       "55  2017-02-17 11:34:26                              [發案] rwd切版需求   \n",
       "56  2017-02-17 14:32:36                          Re: [發案] rwd切版需求   \n",
       "60  2017-02-25 17:27:33                             [發案] SEO 網頁優化   \n",
       "74  2017-03-06 11:39:18                                 [發案] 美髮預約   \n",
       "77  2017-03-07 23:59:21                              [發案] 網頁手機版前端   \n",
       "96  2017-03-19 00:47:11                           [發案] 網站協助建構以及諮詢   \n",
       "\n",
       "                                                  url  \n",
       "7   https://www.ptt.cc/bbs/CodeJob/M.1484044113.A....  \n",
       "32  https://www.ptt.cc/bbs/CodeJob/M.1486448367.A....  \n",
       "37  https://www.ptt.cc/bbs/CodeJob/M.1486495471.A....  \n",
       "55  https://www.ptt.cc/bbs/CodeJob/M.1487302468.A....  \n",
       "56  https://www.ptt.cc/bbs/CodeJob/M.1487313158.A....  \n",
       "60  https://www.ptt.cc/bbs/CodeJob/M.1488014856.A....  \n",
       "74  https://www.ptt.cc/bbs/CodeJob/M.1488771561.A....  \n",
       "77  https://www.ptt.cc/bbs/CodeJob/M.1488902364.A....  \n",
       "96  https://www.ptt.cc/bbs/CodeJob/M.1489855633.A....  "
      ]
     },
     "execution_count": 30,
     "metadata": {},
     "output_type": "execute_result"
    }
   ],
   "source": [
    "def check_key_word(val, key='爬'):\n",
    "    try:\n",
    "        if key in val.lower():\n",
    "            return True\n",
    "        else:\n",
    "            return False\n",
    "    except AttributeError as e:\n",
    "        return False\n",
    "        \n",
    "df[df['content'].map(lambda x: check_key_word(x, key='網頁'))]"
   ]
  },
  {
   "cell_type": "code",
   "execution_count": null,
   "metadata": {
    "collapsed": true
   },
   "outputs": [],
   "source": []
  }
 ],
 "metadata": {
  "kernelspec": {
   "display_name": "Python 3",
   "language": "python",
   "name": "python3"
  },
  "language_info": {
   "codemirror_mode": {
    "name": "ipython",
    "version": 3
   },
   "file_extension": ".py",
   "mimetype": "text/x-python",
   "name": "python",
   "nbconvert_exporter": "python",
   "pygments_lexer": "ipython3",
   "version": "3.6.0"
  }
 },
 "nbformat": 4,
 "nbformat_minor": 2
}
