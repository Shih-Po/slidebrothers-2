{
 "cells": [
  {
   "cell_type": "code",
   "execution_count": 1,
   "metadata": {
    "collapsed": true
   },
   "outputs": [],
   "source": [
    "import pandas as pd"
   ]
  },
  {
   "cell_type": "code",
   "execution_count": 7,
   "metadata": {
    "collapsed": false
   },
   "outputs": [],
   "source": [
    "df = pd.read_csv('./codejob_from_index_355_to_365.tsv', sep='\\t', dtype='str')"
   ]
  },
  {
   "cell_type": "code",
   "execution_count": 18,
   "metadata": {
    "collapsed": false
   },
   "outputs": [
    {
     "data": {
      "text/html": [
       "<div>\n",
       "<table border=\"1\" class=\"dataframe\">\n",
       "  <thead>\n",
       "    <tr style=\"text-align: right;\">\n",
       "      <th></th>\n",
       "      <th>author</th>\n",
       "      <th>content</th>\n",
       "      <th>time</th>\n",
       "      <th>title</th>\n",
       "      <th>url</th>\n",
       "    </tr>\n",
       "  </thead>\n",
       "  <tbody>\n",
       "    <tr>\n",
       "      <th>20</th>\n",
       "      <td>kingwang317 (King)</td>\n",
       "      <td>凡是「     」開始的行，都請使用          刪除。\\n如果對於發案文章格式有不清...</td>\n",
       "      <td>2017-01-30 23:14:39</td>\n",
       "      <td>[發案] 爬蟲程式長期合作</td>\n",
       "      <td>https://www.ptt.cc/bbs/CodeJob/M.1485789281.A....</td>\n",
       "    </tr>\n",
       "    <tr>\n",
       "      <th>45</th>\n",
       "      <td>opppoo123 (little_dd)</td>\n",
       "      <td>中長期網站架設維護\\n發案人：opp\\n聯絡方式：站內信\\n所在地區：新北市\\n有效期間：至...</td>\n",
       "      <td>2017-02-12 22:41:54</td>\n",
       "      <td>[發案] 網站建置、維護</td>\n",
       "      <td>https://www.ptt.cc/bbs/CodeJob/M.1486910516.A....</td>\n",
       "    </tr>\n",
       "    <tr>\n",
       "      <th>80</th>\n",
       "      <td>skytree0120 (skytree)</td>\n",
       "      <td>凡是「*[30m」開始的行，都請使用 Ctrl + y 刪除。\\n如果對於發案文章格式有不清...</td>\n",
       "      <td>2017-03-09 23:54:41</td>\n",
       "      <td>[發案] 網頁爬蟲</td>\n",
       "      <td>https://www.ptt.cc/bbs/CodeJob/M.1489074884.A....</td>\n",
       "    </tr>\n",
       "    <tr>\n",
       "      <th>84</th>\n",
       "      <td>useeseeu (U See See U)</td>\n",
       "      <td>發案人：我\\n       聯絡方式1：站內信\\n       聯絡方式2...</td>\n",
       "      <td>2017-03-11 16:48:42</td>\n",
       "      <td>[發案] 爬蟲和前端資料視覺化</td>\n",
       "      <td>https://www.ptt.cc/bbs/CodeJob/M.1489222124.A....</td>\n",
       "    </tr>\n",
       "    <tr>\n",
       "      <th>114</th>\n",
       "      <td>y761023 (之)</td>\n",
       "      <td>發案人：陳先生\\n       聯絡方式1：站內信\\n       聯絡方...</td>\n",
       "      <td>2017-03-27 21:59:39</td>\n",
       "      <td>[發案] 爬蟲程式</td>\n",
       "      <td>https://www.ptt.cc/bbs/CodeJob/M.1490623183.A....</td>\n",
       "    </tr>\n",
       "    <tr>\n",
       "      <th>131</th>\n",
       "      <td>star2000 (昨夜風)</td>\n",
       "      <td>發案人：林小姐\\n       聯絡方式1：[email protecte...</td>\n",
       "      <td>2017-04-07 08:01:03</td>\n",
       "      <td>[發案] amazon網路商品爬蟲</td>\n",
       "      <td>https://www.ptt.cc/bbs/CodeJob/M.1491523266.A....</td>\n",
       "    </tr>\n",
       "  </tbody>\n",
       "</table>\n",
       "</div>"
      ],
      "text/plain": [
       "                     author  \\\n",
       "20       kingwang317 (King)   \n",
       "45    opppoo123 (little_dd)   \n",
       "80    skytree0120 (skytree)   \n",
       "84   useeseeu (U See See U)   \n",
       "114             y761023 (之)   \n",
       "131          star2000 (昨夜風)   \n",
       "\n",
       "                                               content                 time  \\\n",
       "20   凡是「     」開始的行，都請使用          刪除。\\n如果對於發案文章格式有不清...  2017-01-30 23:14:39   \n",
       "45   中長期網站架設維護\\n發案人：opp\\n聯絡方式：站內信\\n所在地區：新北市\\n有效期間：至...  2017-02-12 22:41:54   \n",
       "80   凡是「*[30m」開始的行，都請使用 Ctrl + y 刪除。\\n如果對於發案文章格式有不清...  2017-03-09 23:54:41   \n",
       "84           　發案人：我\\n       聯絡方式1：站內信\\n       聯絡方式2...  2017-03-11 16:48:42   \n",
       "114          　發案人：陳先生\\n       聯絡方式1：站內信\\n       聯絡方...  2017-03-27 21:59:39   \n",
       "131          　發案人：林小姐\\n       聯絡方式1：[email protecte...  2017-04-07 08:01:03   \n",
       "\n",
       "                 title                                                url  \n",
       "20       [發案] 爬蟲程式長期合作  https://www.ptt.cc/bbs/CodeJob/M.1485789281.A....  \n",
       "45        [發案] 網站建置、維護  https://www.ptt.cc/bbs/CodeJob/M.1486910516.A....  \n",
       "80           [發案] 網頁爬蟲  https://www.ptt.cc/bbs/CodeJob/M.1489074884.A....  \n",
       "84     [發案] 爬蟲和前端資料視覺化  https://www.ptt.cc/bbs/CodeJob/M.1489222124.A....  \n",
       "114          [發案] 爬蟲程式  https://www.ptt.cc/bbs/CodeJob/M.1490623183.A....  \n",
       "131  [發案] amazon網路商品爬蟲  https://www.ptt.cc/bbs/CodeJob/M.1491523266.A....  "
      ]
     },
     "execution_count": 18,
     "metadata": {},
     "output_type": "execute_result"
    }
   ],
   "source": [
    "def check_key_word(val, key='爬'):\n",
    "    try:\n",
    "        if key in val.lower():\n",
    "            return True\n",
    "        else:\n",
    "            return False\n",
    "    except AttributeError as e:\n",
    "        return False\n",
    "        \n",
    "df[df['content'].map(check_key_word)]"
   ]
  },
  {
   "cell_type": "code",
   "execution_count": null,
   "metadata": {
    "collapsed": true
   },
   "outputs": [],
   "source": []
  }
 ],
 "metadata": {
  "kernelspec": {
   "display_name": "Python 3",
   "language": "python",
   "name": "python3"
  },
  "language_info": {
   "codemirror_mode": {
    "name": "ipython",
    "version": 3
   },
   "file_extension": ".py",
   "mimetype": "text/x-python",
   "name": "python",
   "nbconvert_exporter": "python",
   "pygments_lexer": "ipython3",
   "version": "3.6.0"
  }
 },
 "nbformat": 4,
 "nbformat_minor": 2
}
