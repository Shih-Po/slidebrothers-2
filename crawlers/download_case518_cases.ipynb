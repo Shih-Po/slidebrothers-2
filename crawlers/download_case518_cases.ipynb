{
 "cells": [
  {
   "cell_type": "code",
   "execution_count": null,
   "metadata": {
    "collapsed": true
   },
   "outputs": [],
   "source": [
    "# 20170415 attempt: case.518.com -> 500 Internal Server Error"
   ]
  },
  {
   "cell_type": "code",
   "execution_count": 179,
   "metadata": {
    "collapsed": false
   },
   "outputs": [],
   "source": [
    "from selenium import webdriver\n",
    "from bs4 import BeautifulSoup\n",
    "import requests\n",
    "import pandas as pd\n",
    "import numpy as np\n",
    "import time\n",
    "from tqdm import tqdm\n",
    "import config\n",
    "\n",
    "account = config.account\n",
    "pwd = config.pd"
   ]
  },
  {
   "cell_type": "code",
   "execution_count": 208,
   "metadata": {
    "collapsed": false
   },
   "outputs": [],
   "source": [
    "def get_518_login_session(br):\n",
    "    \n",
    "    # fill info to get login session\n",
    "    br.get('http://case.518.com.tw/member-logout.html')\n",
    "    br.get('https://case.518.com.tw/member-login.html')\n",
    "    br.find_element_by_id('account').send_keys(account)\n",
    "    br.find_element_by_id('pwd').send_keys(pwd)\n",
    "    br.find_element_by_xpath('//*[@id=\"content-inner\"]/form/div/p[4]/input').click()\n",
    "\n",
    "    br.get('http://case.518.com.tw/casepage-index.html')\n",
    "    \n",
    "    s = requests.Session()\n",
    "    for c in br.get_cookies():\n",
    "        s.cookies.set(c['name'], c['value'])\n",
    "    return s\n",
    "\n",
    "br = webdriver.Chrome('./drivers/chromedriver_mac64')\n",
    "s = get_518_login_session(br)\n",
    "br.quit()"
   ]
  },
  {
   "cell_type": "code",
   "execution_count": 187,
   "metadata": {
    "collapsed": false
   },
   "outputs": [],
   "source": [
    "def get_case_list_df_by_page_url(page_url):\n",
    "    res = s.get(page_url)\n",
    "    soup = BeautifulSoup(res.text, 'html.parser')\n",
    "    \n",
    "    # parse needed data\n",
    "    titles = [a.text.strip() for a in soup.select('li.title div a')]\n",
    "    links = [a.get('href') for a in soup.select('li.title div a')]\n",
    "    propose_amount = [int(a.text.strip()) for a in soup.select('li.active a')]\n",
    "    budgets = [s.text.strip() for s in soup.select('li.budget span')]\n",
    "    views = [int(s.text.strip()) for s in soup.select('li.view span')]\n",
    "    locations = [s.text.strip() for s in soup.select('li.status span')]\n",
    "    post_dates = [s.text.strip() for s in soup.select('time')]\n",
    "\n",
    "    df = pd.DataFrame({\n",
    "        'title': titles,\n",
    "        'link': links,\n",
    "        'propose_amount': propose_amount,\n",
    "        'budget': budgets,\n",
    "        'view': views,\n",
    "        'location': locations,\n",
    "        'post_date': post_dates\n",
    "    })\n",
    "    time.sleep(1)\n",
    "    return df"
   ]
  },
  {
   "cell_type": "code",
   "execution_count": 209,
   "metadata": {
    "collapsed": false
   },
   "outputs": [
    {
     "name": "stderr",
     "output_type": "stream",
     "text": [
      "100%|██████████| 31/31 [00:48<00:00,  1.60s/it]\n"
     ]
    }
   ],
   "source": [
    "def get_final_page(url):\n",
    "    soup = BeautifulSoup(s.get(url).text, 'html.parser')\n",
    "    return int(soup.select_one('span.pagecountnum span').text\\\n",
    "                                                        .split('/')[1]\\\n",
    "                                                        .strip())\n",
    "\n",
    "web_section_url = 'http://case.518.com.tw/casepage-index.html?srh=KWCC20MMTA7MM'\n",
    "final_page = get_final_page(web_section_url)\n",
    "\n",
    "frame = []\n",
    "pages = range(1, final_page+1)\n",
    "for page in tqdm(pages):\n",
    "    page_url = web_section_url.replace('.html?', \n",
    "                                       '.html?page={}&'.format(page))\n",
    "    _df = get_case_list_df_by_page_url(page_url)\n",
    "    frame.append(_df)\n",
    "    \n",
    "basic_info_df = pd.concat(frame).reset_index(drop=True)"
   ]
  },
  {
   "cell_type": "code",
   "execution_count": 211,
   "metadata": {
    "collapsed": false,
    "scrolled": false
   },
   "outputs": [
    {
     "name": "stderr",
     "output_type": "stream",
     "text": [
      "100%|██████████| 618/618 [13:12<00:00,  1.16s/it]\n"
     ]
    }
   ],
   "source": [
    "def get_case_info_by_link(link):\n",
    "    \"\"\"\n",
    "    return tuple contains\n",
    "    link, content, location, office, time_limit and owner_positive\n",
    "    \"\"\"\n",
    "    res = s.get(link)\n",
    "    soup = BeautifulSoup(res.text, 'html.parser')\n",
    "\n",
    "    content = soup.select_one('dd.conttext p').text.strip()\n",
    "    try:\n",
    "        office = soup.select('dd.loc')[1].text.strip()\n",
    "    except Exception as e:\n",
    "        office = np.nan\n",
    "        \n",
    "    time_limit = soup.select_one('dd.date').text.strip()\n",
    "    owner_positive = soup.select_one('p.positive').text.strip()\n",
    "\n",
    "    # time.sleep(1)\n",
    "    return (link, content, office, time_limit, owner_positive)\n",
    "\n",
    "rows = []\n",
    "for link in tqdm(basic_info_df['link']):\n",
    "    row = get_case_info_by_link(link)\n",
    "    rows.append(row)\n",
    "\n",
    "advance_info_columns = ['link', 'content', 'office', \n",
    "                        'time_limit', 'owner_positive']\n",
    "advance_info_df = pd.DataFrame(rows, columns=advance_info_columns)\n",
    "rs_df = basic_info_df.merge(advance_info_df, on='link')\n"
   ]
  },
  {
   "cell_type": "code",
   "execution_count": 227,
   "metadata": {
    "collapsed": false
   },
   "outputs": [],
   "source": [
    "rs_df.to_csv('../data/case518_web.tsv', sep='\\t',\n",
    "                                          index=False, \n",
    "                                          encoding='utf-8')\n",
    "\n",
    "rs_df.to_json('../data/case518_web.json', force_ascii=False, \n",
    "                                            orient='records')"
   ]
  },
  {
   "cell_type": "code",
   "execution_count": null,
   "metadata": {
    "collapsed": true
   },
   "outputs": [],
   "source": []
  }
 ],
 "metadata": {
  "kernelspec": {
   "display_name": "Python 3",
   "language": "python",
   "name": "python3"
  },
  "language_info": {
   "codemirror_mode": {
    "name": "ipython",
    "version": 3
   },
   "file_extension": ".py",
   "mimetype": "text/x-python",
   "name": "python",
   "nbconvert_exporter": "python",
   "pygments_lexer": "ipython3",
   "version": "3.6.0"
  }
 },
 "nbformat": 4,
 "nbformat_minor": 2
}
