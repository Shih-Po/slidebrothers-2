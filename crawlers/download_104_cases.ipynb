{
 "cells": [
  {
   "cell_type": "code",
   "execution_count": 51,
   "metadata": {
    "collapsed": false
   },
   "outputs": [],
   "source": [
    "from selenium import webdriver\n",
    "from bs4 import BeautifulSoup\n",
    "import pandas as pd\n",
    "import config\n",
    "\n",
    "account = config.account\n",
    "pwd = config.pd"
   ]
  },
  {
   "cell_type": "code",
   "execution_count": 52,
   "metadata": {
    "collapsed": false
   },
   "outputs": [],
   "source": [
    "br = webdriver.Chrome('./drivers/chromedriver_mac64')\n",
    "\n",
    "# fill info to login \n",
    "br.get('https://case.104.com.tw/logout_finish.cfm')\n",
    "br.get('https://login.104.com.tw/login.cfm')\n",
    "br.find_element_by_id('id_name').send_keys(account)\n",
    "br.find_element_by_id('password').send_keys(pwd)\n",
    "br.find_element_by_xpath('//*[@id=\"wrapper\"]/div[3]/div[4]/ul/li[1]/input').click()"
   ]
  },
  {
   "cell_type": "code",
   "execution_count": 53,
   "metadata": {
    "collapsed": false
   },
   "outputs": [],
   "source": [
    "case_url = ('https://case.104.com.tw/postcase_list.cfm?'\n",
    "            'cat=0&area=0&role=0&iType=1&caseno=&cat_s=0&money=&enddays=&orderby=0&'\n",
    "            'page=1&other=cat&otherVal=1&casetype=0&begin=0&cfrom=&IDNO=20000000737006')\n",
    "\n",
    "br.get(case_url)\n",
    "soup = BeautifulSoup(br.page_source, 'html.parser')"
   ]
  },
  {
   "cell_type": "code",
   "execution_count": 62,
   "metadata": {
    "collapsed": false
   },
   "outputs": [
    {
     "name": "stdout",
     "output_type": "stream",
     "text": [
      "https://case.104.com.tw/postcase_list.cfm?cat=0&area=0&role=0&iType=1&caseno=&cat_s=0&money=&enddays=&orderby=0&page=1&other=cat&otherVal=1&casetype=0&begin=0&cfrom=&IDNO=20000000737006\n",
      "                   title                                               link\n",
      "0             iOS 行動學習設計  https://case.104.com.tw/seek_view.cfm?caseno=1...\n",
      "1         Android 影音軟件開發  https://case.104.com.tw/seek_view.cfm?caseno=1...\n",
      "2              幼兒學習遊戲卡開發  https://case.104.com.tw/seek_view.cfm?caseno=1...\n",
      "3                  R統計分析  https://case.104.com.tw/seek_view.cfm?caseno=1...\n",
      "4              購物資訊APP開發  https://case.104.com.tw/seek_view.cfm?caseno=1...\n",
      "5              交友APP程式開發  https://case.104.com.tw/seek_view.cfm?caseno=1...\n",
      "6        網站製作(wordpress)  https://case.104.com.tw/seek_view.cfm?caseno=1...\n",
      "7              RWD網站後台設計  https://case.104.com.tw/seek_view.cfm?caseno=1...\n",
      "8         企業官網(購物網站)網頁設計  https://case.104.com.tw/seek_view.cfm?caseno=1...\n",
      "9            資訊網路設備設定與維護  https://case.104.com.tw/seek_view.cfm?caseno=1...\n",
      "10  Ruby on Rails 官網程式修改  https://case.104.com.tw/seek_view.cfm?caseno=1...\n",
      "11           CATIA客製程式開發  https://case.104.com.tw/seek_view.cfm?caseno=1...\n",
      "12  繼電器(Relay)之電路設計與原型製樣  https://case.104.com.tw/seek_view.cfm?caseno=1...\n",
      "13                官網金流串接  https://case.104.com.tw/seek_view.cfm?caseno=1...\n",
      "14               無線電天線設計  https://case.104.com.tw/seek_view.cfm?caseno=1...\n",
      "\n",
      "https://case.104.com.tw/postcase_list.cfm?cat=0&area=0&role=0&iType=1&caseno=&cat_s=0&money=&enddays=&orderby=0&page=2&other=cat&otherVal=1&casetype=0&begin=0&cfrom=&IDNO=20000000737006\n",
      "               title                                               link\n",
      "0     百家樂真人視訊遊戲APP開發  https://case.104.com.tw/seek_view.cfm?caseno=1...\n",
      "1       QRCODE應用網站開發  https://case.104.com.tw/seek_view.cfm?caseno=1...\n",
      "2             購物網站建置  https://case.104.com.tw/seek_view.cfm?caseno=1...\n",
      "3          客製化PC程式設計  https://case.104.com.tw/seek_view.cfm?caseno=1...\n",
      "4       PHP/線上訂房系統製作  https://case.104.com.tw/seek_view.cfm?caseno=1...\n",
      "5        傳直銷分銷系統網站開發  https://case.104.com.tw/seek_view.cfm?caseno=1...\n",
      "6         DLNA播放程式開發  https://case.104.com.tw/seek_view.cfm?caseno=1...\n",
      "7             網頁設計專案  https://case.104.com.tw/seek_view.cfm?caseno=1...\n",
      "8   Android App 程式開發  https://case.104.com.tw/seek_view.cfm?caseno=1...\n",
      "9        鼎新ERP導入輔導顧問  https://case.104.com.tw/seek_view.cfm?caseno=1...\n",
      "10          關聯式資料庫設計  https://case.104.com.tw/seek_view.cfm?caseno=1...\n",
      "11        .Net程式設計專案  https://case.104.com.tw/seek_view.cfm?caseno=1...\n",
      "12            公司網站修改  https://case.104.com.tw/seek_view.cfm?caseno=1...\n",
      "13         app旅遊程式編寫  https://case.104.com.tw/seek_view.cfm?caseno=1...\n",
      "14          旅遊平台系統建置  https://case.104.com.tw/seek_view.cfm?caseno=1...\n",
      "\n",
      "https://case.104.com.tw/postcase_list.cfm?cat=0&area=0&role=0&iType=1&caseno=&cat_s=0&money=&enddays=&orderby=0&page=3&other=cat&otherVal=1&casetype=0&begin=0&cfrom=&IDNO=20000000737006\n",
      "                   title                                               link\n",
      "0            iOS APP軟體開發  https://case.104.com.tw/seek_view.cfm?caseno=1...\n",
      "1                 類比IC設計  https://case.104.com.tw/seek_view.cfm?caseno=1...\n",
      "2                 公司官網設計  https://case.104.com.tw/seek_view.cfm?caseno=1...\n",
      "3               電信用戶電訪邀約  https://case.104.com.tw/seek_view.cfm?caseno=1...\n",
      "4              公司商品APP開發  https://case.104.com.tw/seek_view.cfm?caseno=1...\n",
      "5           自動化設備PLC程式撰寫  https://case.104.com.tw/seek_view.cfm?caseno=1...\n",
      "6            PC 介面優化(專題)  https://case.104.com.tw/seek_view.cfm?caseno=1...\n",
      "7      購物車系統 (限) laravel  https://case.104.com.tw/seek_view.cfm?caseno=1...\n",
      "8   PCB layout and Debug  https://case.104.com.tw/seek_view.cfm?caseno=1...\n",
      "9               PT更新網站資料  https://case.104.com.tw/seek_view.cfm?caseno=1...\n",
      "10          WMS 倉儲管理系統開發  https://case.104.com.tw/seek_view.cfm?caseno=1...\n",
      "11  ASP.NET MVC 程式開發(C＃)  https://case.104.com.tw/seek_view.cfm?caseno=1...\n",
      "12        TIPTOP異質平台資訊拋轉  https://case.104.com.tw/seek_view.cfm?caseno=1...\n",
      "13             電子商務APP開發  https://case.104.com.tw/seek_view.cfm?caseno=1...\n",
      "14           車輛預約APP系統開發  https://case.104.com.tw/seek_view.cfm?caseno=1...\n",
      "\n"
     ]
    }
   ],
   "source": [
    "case_num = soup.select_one('div.insider_right_t h2 b').text.strip()\n",
    "final_page = int(soup.select_one('div.insider_right_t h2 em').text.strip())\n",
    "\n",
    "def get_case_list_by_page(url):\n",
    "    br.get(url) # after login\n",
    "    \n",
    "    soup = BeautifulSoup(br.page_source, 'html.parser')\n",
    "    caselist = soup.select_one('div.caselist')\n",
    "    titles = [a.text for a in caselist.select('li dt a')]\n",
    "    links = ['https://case.104.com.tw/' + a.get('href') for a in soup.select('li dt a')]\n",
    "    \n",
    "    records = [(t, l) for t,l in zip(titles, links)]\n",
    "    return pd.DataFrame(records, columns=['title', 'link'])\n",
    "\n",
    "\n",
    "for page in range(1, final_page+1)[:3]:\n",
    "    page_url = case_url.replace('page=1', 'page={}'.format(page))\n",
    "    print(page_url)\n",
    "    print(get_case_list_by_page(page_url))\n",
    "    print()"
   ]
  },
  {
   "cell_type": "code",
   "execution_count": null,
   "metadata": {
    "collapsed": true
   },
   "outputs": [],
   "source": []
  }
 ],
 "metadata": {
  "kernelspec": {
   "display_name": "Python 3",
   "language": "python",
   "name": "python3"
  },
  "language_info": {
   "codemirror_mode": {
    "name": "ipython",
    "version": 3
   },
   "file_extension": ".py",
   "mimetype": "text/x-python",
   "name": "python",
   "nbconvert_exporter": "python",
   "pygments_lexer": "ipython3",
   "version": "3.6.0"
  }
 },
 "nbformat": 4,
 "nbformat_minor": 2
}
