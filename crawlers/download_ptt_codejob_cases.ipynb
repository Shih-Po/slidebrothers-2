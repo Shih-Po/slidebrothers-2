{
 "cells": [
  {
   "cell_type": "code",
   "execution_count": 128,
   "metadata": {
    "collapsed": false
   },
   "outputs": [],
   "source": [
    "import time\n",
    "from tqdm import tqdm\n",
    "import requests \n",
    "from bs4 import BeautifulSoup\n",
    "import pandas as pd"
   ]
  },
  {
   "cell_type": "code",
   "execution_count": 145,
   "metadata": {
    "collapsed": false
   },
   "outputs": [],
   "source": [
    "def get_ptt_codejob_case_info(url):\n",
    "    res = requests.get(url)\n",
    "    soup = BeautifulSoup(res.text, 'html.parser')\n",
    "    meta_values = soup.select('span.article-meta-value')\n",
    "\n",
    "    try:\n",
    "        author = meta_values[0].text\n",
    "        title = meta_values[2].text\n",
    "        time = meta_values[3].text\n",
    "\n",
    "        main_contents = soup.select_one('div#main-content').text.split('\\n')[1:]\n",
    "        content = '\\n'.join([line.replace('\\t', '') for line in main_contents if line != ''])\n",
    "    except IndexError as e:\n",
    "        print(url, e)\n",
    "        return {'url': url}\n",
    "        \n",
    "    rs_dict = {\n",
    "        'url': url,\n",
    "        'author': author,\n",
    "        'title': title,\n",
    "        'time': time,\n",
    "        'content': content\n",
    "    }\n",
    "    return rs_dict\n",
    "\n",
    "def get_ptt_codejob_case_urls(index_start=355, index_end=365): \n",
    "    \"\"\"\n",
    "    # crawl index from 355 untill to \"500 - Internal Server Error\"\n",
    "    \"\"\"\n",
    "    urls = ['https://www.ptt.cc/bbs/CodeJob/index{i}.html'.format(i=i) \n",
    "            for i in range(index_start, index_end+1)]\n",
    "    rs_case_urls = []\n",
    "    for url in tqdm(urls):\n",
    "        time.sleep(1)\n",
    "        res = requests.get(url)\n",
    "        soup = BeautifulSoup(res.text, 'html.parser')\n",
    "        \n",
    "        a_tags = soup.select('div.title a')\n",
    "        if a_tags == []:\n",
    "            # out of index\n",
    "            print('{} has no contents!'.format(url))\n",
    "            break\n",
    "        else:\n",
    "            # Add cases that has [發案] in title only\n",
    "            _case_urls = ['https://www.ptt.cc' + a.get('href') \n",
    "                          for a in a_tags if '[發案]' in a.text]\n",
    "            rs_case_urls += _case_urls\n",
    "    return rs_case_urls\n"
   ]
  },
  {
   "cell_type": "code",
   "execution_count": 130,
   "metadata": {
    "collapsed": false
   },
   "outputs": [
    {
     "name": "stderr",
     "output_type": "stream",
     "text": [
      " 82%|████████▏ | 9/11 [00:18<00:04,  2.02s/it]"
     ]
    },
    {
     "name": "stdout",
     "output_type": "stream",
     "text": [
      "https://www.ptt.cc/bbs/CodeJob/index364.html has no contents!\n",
      "from index 355 to 365 has 134 cases.\n",
      "\n",
      "CPU times: user 403 ms, sys: 20 ms, total: 423 ms\n",
      "Wall time: 20.5 s\n"
     ]
    }
   ],
   "source": [
    "%%time\n",
    "index_start = 355\n",
    "index_end = 365\n",
    "\n",
    "codejob_case_urls = get_ptt_codejob_case_urls(index_start, index_end)\n",
    "\n",
    "print('from index {0} to {1} has {2} cases.\\n'.format(index_start, \n",
    "                                                    index_end, \n",
    "                                                    len(codejob_case_urls)))"
   ]
  },
  {
   "cell_type": "code",
   "execution_count": 143,
   "metadata": {
    "collapsed": false
   },
   "outputs": [
    {
     "name": "stdout",
     "output_type": "stream",
     "text": [
      "https://www.ptt.cc/bbs/CodeJob/M.1486637432.A.F77.html\n"
     ]
    }
   ],
   "source": [
    "# exception: 徵得後編輯文章，移除必要資訊後產生 IndexError\n",
    "print(codejob_case_urls[40])"
   ]
  },
  {
   "cell_type": "code",
   "execution_count": 146,
   "metadata": {
    "collapsed": false
   },
   "outputs": [
    {
     "name": "stderr",
     "output_type": "stream",
     "text": [
      "\n",
      "  0%|          | 0/134 [00:00<?, ?it/s]\u001b[A\n",
      "  1%|          | 1/134 [00:02<04:58,  2.24s/it]\u001b[A\n",
      "  1%|▏         | 2/134 [00:04<04:47,  2.18s/it]\u001b[A\n",
      "  2%|▏         | 3/134 [00:06<04:33,  2.09s/it]\u001b[A\n",
      " 30%|██▉       | 40/134 [01:25<03:07,  2.00s/it]"
     ]
    },
    {
     "name": "stdout",
     "output_type": "stream",
     "text": [
      "https://www.ptt.cc/bbs/CodeJob/M.1486637432.A.F77.html list index out of range\n"
     ]
    },
    {
     "name": "stderr",
     "output_type": "stream",
     "text": [
      " 70%|███████   | 94/134 [03:15<01:24,  2.12s/it]"
     ]
    },
    {
     "name": "stdout",
     "output_type": "stream",
     "text": [
      "https://www.ptt.cc/bbs/CodeJob/M.1489736995.A.CA3.html list index out of range\n"
     ]
    },
    {
     "name": "stderr",
     "output_type": "stream",
     "text": [
      " 87%|████████▋ | 117/134 [04:02<00:37,  2.22s/it]"
     ]
    },
    {
     "name": "stdout",
     "output_type": "stream",
     "text": [
      "https://www.ptt.cc/bbs/CodeJob/M.1490807722.A.A9C.html list index out of range\n"
     ]
    },
    {
     "name": "stderr",
     "output_type": "stream",
     "text": [
      "100%|██████████| 134/134 [04:38<00:00,  2.16s/it]\n"
     ]
    }
   ],
   "source": [
    "rs_list = []\n",
    "for case_url in tqdm(codejob_case_urls):\n",
    "    _dict = get_ptt_codejob_case_info(case_url)\n",
    "    time.sleep(1)\n",
    "    rs_list.append(_dict)\n",
    "    \n",
    "df = pd.DataFrame(rs_list)"
   ]
  },
  {
   "cell_type": "code",
   "execution_count": 162,
   "metadata": {
    "collapsed": false
   },
   "outputs": [],
   "source": [
    "df['time'] = df['time'].map(pd.to_datetime)\n",
    "df.to_csv('../data/codejob_from_index_{}_to_{}.tsv'.format(index_start, index_end), \n",
    "                                                            index=False,\n",
    "                                                            sep='\\t',\n",
    "                                                            encoding='utf-8')"
   ]
  },
  {
   "cell_type": "markdown",
   "metadata": {},
   "source": [
    "## 已知問題\n",
    "- content 欄位會抓到推文，太多的時候有點阿雜"
   ]
  },
  {
   "cell_type": "code",
   "execution_count": 161,
   "metadata": {
    "collapsed": false
   },
   "outputs": [
    {
     "data": {
      "text/plain": [
       "3      11173.0\n",
       "38      3080.0\n",
       "61      1726.0\n",
       "74      1654.0\n",
       "26      1626.0\n",
       "33      1597.0\n",
       "54      1580.0\n",
       "75      1544.0\n",
       "4       1514.0\n",
       "71      1365.0\n",
       "2       1348.0\n",
       "44      1307.0\n",
       "41      1305.0\n",
       "22      1279.0\n",
       "119     1278.0\n",
       "105     1272.0\n",
       "99      1271.0\n",
       "96      1242.0\n",
       "25      1240.0\n",
       "17      1221.0\n",
       "Name: content, dtype: float64"
      ]
     },
     "execution_count": 161,
     "metadata": {},
     "output_type": "execute_result"
    }
   ],
   "source": [
    "df['content'].str.len().sort_values(ascending=False).head(20)"
   ]
  },
  {
   "cell_type": "code",
   "execution_count": 174,
   "metadata": {
    "collapsed": true
   },
   "outputs": [],
   "source": [
    "df.to_json('../data/codejob_from_index_355_to_365.json', force_ascii=False, orient='records')"
   ]
  },
  {
   "cell_type": "code",
   "execution_count": null,
   "metadata": {
    "collapsed": true
   },
   "outputs": [],
   "source": []
  }
 ],
 "metadata": {
  "kernelspec": {
   "display_name": "Python 3",
   "language": "python",
   "name": "python3"
  },
  "language_info": {
   "codemirror_mode": {
    "name": "ipython",
    "version": 3
   },
   "file_extension": ".py",
   "mimetype": "text/x-python",
   "name": "python",
   "nbconvert_exporter": "python",
   "pygments_lexer": "ipython3",
   "version": "3.6.0"
  }
 },
 "nbformat": 4,
 "nbformat_minor": 2
}
