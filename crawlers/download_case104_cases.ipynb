{
 "cells": [
  {
   "cell_type": "code",
   "execution_count": null,
   "metadata": {
    "collapsed": false
   },
   "outputs": [],
   "source": [
    "from selenium import webdriver\n",
    "from bs4 import BeautifulSoup\n",
    "import pandas as pd\n",
    "from tqdm import tqdm\n",
    "import time\n",
    "import config\n",
    "\n",
    "account = config.account\n",
    "pwd = config.pd"
   ]
  },
  {
   "cell_type": "code",
   "execution_count": null,
   "metadata": {
    "collapsed": false
   },
   "outputs": [],
   "source": [
    "br = webdriver.Chrome('./drivers/chromedriver_mac64')\n",
    "\n",
    "# fill info to login \n",
    "br.get('https://case.104.com.tw/logout_finish.cfm')\n",
    "br.get('https://login.104.com.tw/login.cfm')\n",
    "br.find_element_by_id('id_name').send_keys(account)\n",
    "br.find_element_by_id('password').send_keys(pwd)\n",
    "br.find_element_by_xpath('//*[@id=\"wrapper\"]/div[3]/div[4]/ul/li[1]/input').click()"
   ]
  },
  {
   "cell_type": "code",
   "execution_count": null,
   "metadata": {
    "collapsed": false
   },
   "outputs": [],
   "source": [
    "%%time\n",
    "# get all case list\n",
    "\n",
    "case_url = ('https://case.104.com.tw/postcase_list.cfm?'\n",
    "            'cat=0&area=0&role=0&iType=1&caseno=&cat_s=0&money=&enddays=&orderby=0&'\n",
    "            'page=1&other=cat&otherVal=1&casetype=0&begin=0&cfrom=&IDNO=20000000737006')\n",
    "br.get(case_url)\n",
    "soup = BeautifulSoup(br.page_source, 'html.parser')\n",
    "\n",
    "case_num = soup.select_one('div.insider_right_t h2 b').text.strip()\n",
    "final_page = int(soup.select_one('div.insider_right_t h2 em').text.strip())\n",
    "\n",
    "def get_case_list_by_page(url):    \n",
    "    record = None\n",
    "    while not record:\n",
    "        try:\n",
    "            br.get(url) # after login\n",
    "            time.sleep(1)\n",
    "            soup = BeautifulSoup(br.page_source, 'html.parser')\n",
    "            caselist = soup.select_one('div.caselist')\n",
    "            titles = [a.text for a in caselist.select('li dt a')]\n",
    "            links = ['https://case.104.com.tw/' + a.get('href').split('&')[0] for a in soup.select('li dt a')]\n",
    "            records = [(t, l) for t,l in zip(titles, links)]\n",
    "            break\n",
    "        except AttributeError as e:\n",
    "            print(url, e)\n",
    "            time.sleep(5)\n",
    "            pass\n",
    "    \n",
    "    return pd.DataFrame(records, columns=['title', 'link'])\n",
    "\n",
    "frame = []\n",
    "for page in tqdm(range(1, final_page+1)):\n",
    "    page_url = case_url.replace('page=1', 'page={}'.format(page))\n",
    "    _df = get_case_list_by_page(page_url)\n",
    "    frame.append(_df)\n",
    "\n",
    "basic_info_df = pd.concat(frame).reset_index(drop=True)"
   ]
  },
  {
   "cell_type": "code",
   "execution_count": null,
   "metadata": {
    "collapsed": false
   },
   "outputs": [],
   "source": [
    "%%time\n",
    "# get advance info by case_link\n",
    "\n",
    "record = []\n",
    "case_link_list = list(basic_df['link'])\n",
    "for case_link in tqdm(case_link_list):\n",
    "    xpath_pair = {\n",
    "        # example: \n",
    "        # https://case.104.com.tw/seek_view.cfm?caseno=1182014&cfrom=postcase_list_seeknum&clist=0&begin=2\n",
    "        'case_type': '//*[@id=\"insider_wrapper\"]/div[2]/div[1]/h1/span',\n",
    "        'budget': '//*[@id=\"insider_wrapper\"]/div[2]/div[3]/div[1]/dl/dd[1]',\n",
    "        'content': '//*[@id=\"caseDesc1\"]',\n",
    "        'view': '//*[@id=\"insider_wrapper\"]/div[2]/div[3]/div[2]/div[3]/dl/dd[1]',\n",
    "        'propose_amount': '//*[@id=\"insider_wrapper\"]/div[2]/div[3]/div[2]/div[3]/dl/dd[2]',\n",
    "        'location': '//*[@id=\"insider_wrapper\"]/div[2]/div[3]/div[3]/dl/dd[1]',\n",
    "        'office': '//*[@id=\"insider_wrapper\"]/div[2]/div[3]/div[3]/dl/dd[2]',\n",
    "        'owner_type': '//*[@id=\"insider_wrapper\"]/div[2]/div[3]/div[2]/div[2]/dl/dd[2]',\n",
    "        'average_price': '//*[@id=\"insider_wrapper\"]/div[2]/div[3]/div[2]/div[3]/dl/dd[4]',\n",
    "        'highest_price': '//*[@id=\"insider_wrapper\"]/div[2]/div[3]/div[2]/div[3]/dl/dd[5]',\n",
    "        'lowest_price': '//*[@id=\"insider_wrapper\"]/div[2]/div[3]/div[2]/div[3]/dl/dd[6]',\n",
    "    }\n",
    "    row = None\n",
    "    count = 0\n",
    "    while not row:\n",
    "        try:\n",
    "            br.get(case_link)\n",
    "            time.sleep(1.5)\n",
    "            \n",
    "            case_type = br.find_element_by_xpath(xpath_pair['case_type']).text.strip()\n",
    "            budget = br.find_element_by_xpath(xpath_pair['budget']).text.strip()\n",
    "            content = br.find_element_by_xpath(xpath_pair['content']).text.strip()\n",
    "            view = br.find_element_by_xpath(xpath_pair['view']).text.strip()\n",
    "            propose_amount = br.find_element_by_xpath(xpath_pair['propose_amount']).text.strip()\n",
    "            location = br.find_element_by_xpath(xpath_pair['location']).text.strip()\n",
    "            office = br.find_element_by_xpath(xpath_pair['office']).text.strip()\n",
    "            owner_type = br.find_element_by_xpath(xpath_pair['owner_type']).text.strip()\n",
    "                       \n",
    "            if '提案金額' in br.page_source:\n",
    "                average_price = br.find_element_by_xpath(xpath_pair['average_price']).text.strip()\n",
    "                highest_price = br.find_element_by_xpath(xpath_pair['highest_price']).text.strip()\n",
    "                lowest_price = br.find_element_by_xpath(xpath_pair['lowest_price']).text.strip()\n",
    "            else:\n",
    "                average_price = None\n",
    "                highest_price = None\n",
    "                lowest_price = None\n",
    "            \n",
    "            row = (case_link, case_type, budget, content, view, \n",
    "                   propose_amount, location, office, owner_type,\n",
    "                   average_price, highest_price, lowest_price)\n",
    "            record.append(row)\n",
    "            break\n",
    "        except Exception as e:\n",
    "            time.sleep(5)\n",
    "            count += 1\n",
    "        \n",
    "        if count > 3:\n",
    "            break\n",
    "\n",
    "\n",
    "br.quit()\n",
    "advance_info_df = pd.DataFrame(record, columns=['link'] + [k for k in xpath_pair])\n",
    "rs_df = basic_info_df.merge(advance_info_df, on='link')"
   ]
  },
  {
   "cell_type": "code",
   "execution_count": null,
   "metadata": {
    "collapsed": false
   },
   "outputs": [],
   "source": [
    "# simple parse\n",
    "\n",
    "def transform_price_col(val):\n",
    "    if val:\n",
    "        val = val.split('$')[1].replace(',', '')\n",
    "        return int(val)\n",
    "    else:\n",
    "        return None\n",
    "\n",
    "rs_df['average_price'] = rs_df['average_price'].map(transform_price_col)\n",
    "rs_df['highest_price'] = rs_df['highest_price'].map(transform_price_col)\n",
    "rs_df['lowest_price'] = rs_df['lowest_price'].map(transform_price_col)\n",
    "rs_df['view'] = rs_df['view'].str.replace(',', '').astype(int)\n",
    "\n",
    "rs_df.head(10)"
   ]
  },
  {
   "cell_type": "code",
   "execution_count": null,
   "metadata": {
    "collapsed": true
   },
   "outputs": [],
   "source": [
    "rs_df.to_csv('../data/case104.tsv', sep='\\t',\n",
    "                                    index=False, \n",
    "                                    encoding='utf-8')\n",
    "\n",
    "rs_df.to_json('../data/case104.json', force_ascii=False, \n",
    "                                      orient='records')"
   ]
  },
  {
   "cell_type": "code",
   "execution_count": null,
   "metadata": {
    "collapsed": true
   },
   "outputs": [],
   "source": []
  }
 ],
 "metadata": {
  "kernelspec": {
   "display_name": "Python 3",
   "language": "python",
   "name": "python3"
  },
  "language_info": {
   "codemirror_mode": {
    "name": "ipython",
    "version": 3
   },
   "file_extension": ".py",
   "mimetype": "text/x-python",
   "name": "python",
   "nbconvert_exporter": "python",
   "pygments_lexer": "ipython3",
   "version": "3.6.0"
  }
 },
 "nbformat": 4,
 "nbformat_minor": 2
}
